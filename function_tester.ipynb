{
 "cells": [
  {
   "cell_type": "code",
   "execution_count": 9,
   "id": "98f813d1-45ea-4f15-a504-ca652955707a",
   "metadata": {},
   "outputs": [],
   "source": [
    "import test_functions as test\n",
    "import functions as fns"
   ]
  },
  {
   "cell_type": "code",
   "execution_count": 10,
   "id": "933f59e3-0476-46ae-afbf-6220e308ce81",
   "metadata": {},
   "outputs": [
    {
     "name": "stdout",
     "output_type": "stream",
     "text": [
      "Password #1\n",
      "Site: Insta\n",
      "Username: Michael1\n",
      "Password: v%4D$*KP\n",
      "\n",
      "Password #2\n",
      "Site: Facebook\n",
      "Username: Michaellll\n",
      "Password: H6!w9QU*?\n",
      "\n",
      "Password #3\n",
      "Site: deletethis\n",
      "Username: fsojs\n",
      "Password: R?a6ut7w\n",
      "\n",
      "Insta\n",
      "Michael1\n",
      "v%4D$*KP\n",
      "Facebook\n",
      "Michaellll\n",
      "H6!w9QU*?\n",
      "deletethis\n",
      "fsojs\n",
      "R?a6ut7w\n",
      "\n"
     ]
    }
   ],
   "source": [
    "test.test_displayer_function() #prints password list neatly\n",
    "test.test_encoder_function() \n",
    "test.test_decoder_function() #prints decoded password list"
   ]
  },
  {
   "cell_type": "markdown",
   "id": "15f7b0ad-196c-4af7-9bed-e26aa85e677f",
   "metadata": {},
   "source": [
    "Everything works as intended :)"
   ]
  }
 ],
 "metadata": {
  "kernelspec": {
   "display_name": "Python 3 (ipykernel)",
   "language": "python",
   "name": "python3"
  },
  "language_info": {
   "codemirror_mode": {
    "name": "ipython",
    "version": 3
   },
   "file_extension": ".py",
   "mimetype": "text/x-python",
   "name": "python",
   "nbconvert_exporter": "python",
   "pygments_lexer": "ipython3",
   "version": "3.11.9"
  }
 },
 "nbformat": 4,
 "nbformat_minor": 5
}
