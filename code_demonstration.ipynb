{
 "cells": [
  {
   "cell_type": "markdown",
   "id": "4ab02863-fd05-46d4-a509-a4aef5ff7820",
   "metadata": {},
   "source": [
    "Password Generator/Storer\n",
    "\n",
    "By running this code, you will be able to store your username and password for your favorite websites. The program allows you to name the password so you can know what site it is for, enter a username and password for the code to store or create a new random password to keep your accounts safe and not reuse the same one for every site. \n",
    "\n",
    "After you create your list of passwords, there are functions you can use to display the passwords neatly, encrypt them to be able to share them safely if needed, and a decoder to be able to read the encrypted password and username.\n",
    "\n",
    "Below is an example of how the code works."
   ]
  },
  {
   "cell_type": "code",
   "execution_count": 3,
   "id": "6156c6f2-c6ff-4912-a1f8-5ab2718da37c",
   "metadata": {},
   "outputs": [
    {
     "name": "stdout",
     "output_type": "stream",
     "text": [
      "\n",
      "What would you like to do?\n",
      "\n",
      "1. Show Password list\n",
      "\n",
      "2. Add Password to list\n",
      "\n",
      "3. Delete Password from list\n",
      "\n",
      "4. Quit\n"
     ]
    },
    {
     "name": "stdin",
     "output_type": "stream",
     "text": [
      "\n",
      "Enter the number for your option:  2\n",
      "\n",
      "What would you like to name this password as:  Insta\n",
      "\n",
      "What is your username for this password:  Michael1\n",
      "\n",
      "What is the password(type a number to generate a random password of that length):  8\n"
     ]
    },
    {
     "name": "stdout",
     "output_type": "stream",
     "text": [
      "\n",
      "\n",
      "{'Insta': {'Michael1': 'v%4D$*KP'}}\n",
      "\n",
      "What would you like to do?\n",
      "\n",
      "1. Show Password list\n",
      "\n",
      "2. Add Password to list\n",
      "\n",
      "3. Delete Password from list\n",
      "\n",
      "4. Quit\n"
     ]
    },
    {
     "name": "stdin",
     "output_type": "stream",
     "text": [
      "\n",
      "Enter the number for your option:  2\n",
      "\n",
      "What would you like to name this password as:  Facebook\n",
      "\n",
      "What is your username for this password:  Michaellll\n",
      "\n",
      "What is the password(type a number to generate a random password of that length):  9\n"
     ]
    },
    {
     "name": "stdout",
     "output_type": "stream",
     "text": [
      "\n",
      "\n",
      "{'Insta': {'Michael1': 'v%4D$*KP'}, 'Facebook': {'Michaellll': 'H6!w9QU*?'}}\n",
      "\n",
      "What would you like to do?\n",
      "\n",
      "1. Show Password list\n",
      "\n",
      "2. Add Password to list\n",
      "\n",
      "3. Delete Password from list\n",
      "\n",
      "4. Quit\n"
     ]
    },
    {
     "name": "stdin",
     "output_type": "stream",
     "text": [
      "\n",
      "Enter the number for your option:  2\n",
      "\n",
      "What would you like to name this password as:  deletethis\n",
      "\n",
      "What is your username for this password:  fsojs\n",
      "\n",
      "What is the password(type a number to generate a random password of that length):  8\n"
     ]
    },
    {
     "name": "stdout",
     "output_type": "stream",
     "text": [
      "\n",
      "\n",
      "{'Insta': {'Michael1': 'v%4D$*KP'}, 'Facebook': {'Michaellll': 'H6!w9QU*?'}, 'deletethis': {'fsojs': 'R?a6ut7w'}}\n",
      "\n",
      "What would you like to do?\n",
      "\n",
      "1. Show Password list\n",
      "\n",
      "2. Add Password to list\n",
      "\n",
      "3. Delete Password from list\n",
      "\n",
      "4. Quit\n"
     ]
    },
    {
     "name": "stdin",
     "output_type": "stream",
     "text": [
      "\n",
      "Enter the number for your option:  3\n",
      "\n",
      "Which item would you like to remove?  deletethis\n"
     ]
    },
    {
     "name": "stdout",
     "output_type": "stream",
     "text": [
      "\n",
      "What would you like to do?\n",
      "\n",
      "1. Show Password list\n",
      "\n",
      "2. Add Password to list\n",
      "\n",
      "3. Delete Password from list\n",
      "\n",
      "4. Quit\n"
     ]
    },
    {
     "name": "stdin",
     "output_type": "stream",
     "text": [
      "\n",
      "Enter the number for your option:  1\n"
     ]
    },
    {
     "name": "stdout",
     "output_type": "stream",
     "text": [
      "\n",
      "Here are your stored passwords: \n",
      "\n",
      "Insta\n",
      "{'Michael1': 'v%4D$*KP'}\n",
      "\n",
      "\n",
      "Facebook\n",
      "{'Michaellll': 'H6!w9QU*?'}\n",
      "\n",
      "\n",
      "\n",
      "What would you like to do?\n",
      "\n",
      "1. Show Password list\n",
      "\n",
      "2. Add Password to list\n",
      "\n",
      "3. Delete Password from list\n",
      "\n",
      "4. Quit\n"
     ]
    },
    {
     "name": "stdin",
     "output_type": "stream",
     "text": [
      "\n",
      "Enter the number for your option:  4\n"
     ]
    }
   ],
   "source": [
    "import classes as cls\n",
    "import functions as fns\n",
    "pass1 = cls.PasswordList('pass1')\n",
    "pass1.menu()"
   ]
  },
  {
   "cell_type": "code",
   "execution_count": 6,
   "id": "8c84db52-2280-4a98-8865-28d186fa9305",
   "metadata": {},
   "outputs": [
    {
     "name": "stdout",
     "output_type": "stream",
     "text": [
      "Password #1\n",
      "Site: Insta\n",
      "Username: Michael1\n",
      "Password: v%4D$*KP\n",
      "\n",
      "Password #2\n",
      "Site: Facebook\n",
      "Username: Michaellll\n",
      "Password: H6!w9QU*?\n",
      "\n"
     ]
    },
    {
     "data": {
      "text/plain": [
       "'đĶĻļĩèĕıīİĩĭĴùèľíüČìòēĘèĎĩīĭĪķķĳèĕıīİĩĭĴĴĴĴèĐþéĿāęĝòćè'"
      ]
     },
     "execution_count": 6,
     "metadata": {},
     "output_type": "execute_result"
    }
   ],
   "source": [
    "fns.display_passwords(pass1.pass_list)\n",
    "fns.encoder(pass1.pass_list)"
   ]
  },
  {
   "cell_type": "code",
   "execution_count": 7,
   "id": "e27f10da-6e1f-4ca9-81cc-553bda0563ee",
   "metadata": {},
   "outputs": [
    {
     "name": "stdout",
     "output_type": "stream",
     "text": [
      "Insta\n",
      "Michael1\n",
      "v%4D$*KP\n",
      "Facebook\n",
      "Michaellll\n",
      "H6!w9QU*?\n",
      "\n"
     ]
    }
   ],
   "source": [
    "fns.decoder('đĶĻļĩèĕıīİĩĭĴùèľíüČìòēĘèĎĩīĭĪķķĳèĕıīİĩĭĴĴĴĴèĐþéĿāęĝòćè')"
   ]
  },
  {
   "cell_type": "markdown",
   "id": "d6920908-0631-406a-bc4d-0fe04363e04f",
   "metadata": {},
   "source": [
    "# Github Repo for Extra Credit\n",
    "https://github.com/mikol-p/FinalProject-Cogs18"
   ]
  },
  {
   "cell_type": "code",
   "execution_count": null,
   "id": "9a536e5c-aeba-46ff-b211-1c3a5b85c432",
   "metadata": {},
   "outputs": [],
   "source": []
  }
 ],
 "metadata": {
  "kernelspec": {
   "display_name": "Python 3 (ipykernel)",
   "language": "python",
   "name": "python3"
  },
  "language_info": {
   "codemirror_mode": {
    "name": "ipython",
    "version": 3
   },
   "file_extension": ".py",
   "mimetype": "text/x-python",
   "name": "python",
   "nbconvert_exporter": "python",
   "pygments_lexer": "ipython3",
   "version": "3.11.9"
  }
 },
 "nbformat": 4,
 "nbformat_minor": 5
}
